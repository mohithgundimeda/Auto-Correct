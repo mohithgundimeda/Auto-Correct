{
 "cells": [
  {
   "cell_type": "code",
   "execution_count": 72,
   "id": "99c27826-5fed-4e4c-8373-18cb32633274",
   "metadata": {},
   "outputs": [],
   "source": [
    "import re\n",
    "from collections import Counter\n",
    "import numpy as np"
   ]
  },
  {
   "cell_type": "code",
   "execution_count": 18,
   "id": "9568474f-9115-4a20-b93e-1300f793b79c",
   "metadata": {},
   "outputs": [],
   "source": [
    "def words(text):\n",
    "    return re.findall(r'\\b\\w+\\b',text.lower())"
   ]
  },
  {
   "cell_type": "code",
   "execution_count": 19,
   "id": "6be93c42-d4e3-4f06-8293-78565aa21e2a",
   "metadata": {},
   "outputs": [],
   "source": [
    "aspell_vocab=words(open('aspell.txt').read())\n",
    "big_vocab=words(open('big.txt').read())\n",
    "birkbeck_vocab=words(open('birkbeck.txt').read())\n",
    "spell1_vocab=words(open('spell-testset1.txt').read())\n",
    "spell2_vocab=words(open('spell-testset2.txt').read())"
   ]
  },
  {
   "cell_type": "code",
   "execution_count": 20,
   "id": "d050cc33-0f54-4e08-a1cd-c884848eab3b",
   "metadata": {},
   "outputs": [],
   "source": [
    "temp=aspell_vocab+big_vocab+birkbeck_vocab+spell1_vocab+spell2_vocab\n",
    "VOCAB=set(temp)\n",
    "counter_dic={}\n",
    "counter_dic=Counter(temp)"
   ]
  },
  {
   "cell_type": "code",
   "execution_count": 27,
   "id": "462e1187-acb3-456f-96e4-258d2838a0a6",
   "metadata": {},
   "outputs": [
    {
     "name": "stdout",
     "output_type": "stream",
     "text": [
      "the total word instances in all the texts is 1160441 and total word types is 65066 \n"
     ]
    }
   ],
   "source": [
    "print(f'the total word instances in all the texts is {len(temp)} and total word types is {len(VOCAB)} ')"
   ]
  },
  {
   "cell_type": "code",
   "execution_count": 80,
   "id": "76c253f9-e194-43b9-91cc-14e1a00b7cc1",
   "metadata": {},
   "outputs": [],
   "source": [
    "def get_prob(counter_dic):\n",
    "    '''\n",
    "    Input:\n",
    "        counter_dic: The wordcount dictionary where key is the word and value is its frequency.\n",
    "    Output:\n",
    "        probs: A dictionary where keys are the words and the values are the probability that a word will occur. \n",
    "    '''\n",
    "    probs={}\n",
    "    N=sum(counter_dic.values())\n",
    "    for key in counter_dic.keys():\n",
    "        probs[key]=counter_dic[key]/N\n",
    "    return probs"
   ]
  },
  {
   "cell_type": "code",
   "execution_count": 32,
   "id": "1b9448b3-1ac6-43dd-88b5-4b1eedd4fac1",
   "metadata": {},
   "outputs": [],
   "source": [
    "probs=get_prob(counter_dic)"
   ]
  },
  {
   "cell_type": "markdown",
   "id": "737ec318-8ec3-41cc-b9a7-e662eaf74cdc",
   "metadata": {},
   "source": [
    "Implementing Edits"
   ]
  },
  {
   "cell_type": "code",
   "execution_count": 81,
   "id": "134b505c-9569-4736-b0c3-4227db8d514b",
   "metadata": {},
   "outputs": [],
   "source": [
    "def insert_text(word):\n",
    "    '''\n",
    "    Input:\n",
    "        word: the input string/word \n",
    "    Output:\n",
    "        inserts: a set of all possible strings with one new letter inserted at every offset\n",
    "    '''\n",
    "    letters='abcdefghijklmnopqrstuvwxyz'\n",
    "    splits=[(word[:i] , word[i:]) for i in range(len(word)+1)]\n",
    "    inserts=[a+c+b for a,b in splits for c in letters]\n",
    "    return inserts"
   ]
  },
  {
   "cell_type": "code",
   "execution_count": 82,
   "id": "aba92bfe-4450-42e5-a9d7-36a3d4045746",
   "metadata": {},
   "outputs": [],
   "source": [
    "def delete_text(word):\n",
    "    '''\n",
    "    Input:\n",
    "        word: the string/word for which you will generate all possible words \n",
    "                in the vocabulary which have 1 missing character\n",
    "    Output:\n",
    "        deletes: a list of all possible strings obtained by deleting 1 character from word\n",
    "    '''\n",
    "    splits=[(word[:i],word[i:]) for i in range(len(word)+1)]\n",
    "    deletes=[a+b[1:] for a,b in splits]\n",
    "    return deletes"
   ]
  },
  {
   "cell_type": "code",
   "execution_count": 83,
   "id": "b7c58631-5856-4345-b2d3-a40a150a5998",
   "metadata": {},
   "outputs": [],
   "source": [
    "def switch_text(word):\n",
    "    '''\n",
    "    Input:\n",
    "        word: input string\n",
    "     Output:\n",
    "        switches: a list of all possible strings with one adjacent charater switched\n",
    "    '''\n",
    "    splits=[(word[:i],word[i:]) for i in range(len(word)+1)]\n",
    "    switches=[a+b[1]+b[0]+b[2:] for a,b in splits if len(b)>1]\n",
    "    return switches"
   ]
  },
  {
   "cell_type": "code",
   "execution_count": 84,
   "id": "294bc5fb-05f8-484c-94f6-0e37e20667c6",
   "metadata": {},
   "outputs": [],
   "source": [
    "def replace_text(word):\n",
    "    '''\n",
    "    Input:\n",
    "        word: the input string/word \n",
    "    Output:\n",
    "        replaces: a list of all possible strings where we replaced one letter from the original word. \n",
    "    ''' \n",
    "    letters='abcdefghijklmnopqrstuvwxyz'\n",
    "    splits=[(word[:i],word[i:]) for i in range(len(word)+1)]\n",
    "    replaces=[a+c+b[1:] for a,b in splits for c in letters]\n",
    "    return replaces"
   ]
  },
  {
   "cell_type": "code",
   "execution_count": 85,
   "id": "d8fd6161-ed82-48e5-bc69-19489cd8b81c",
   "metadata": {},
   "outputs": [],
   "source": [
    "def edit1(word):\n",
    "    \"\"\"\n",
    "    Input:\n",
    "        word: the string/word for which we will generate all possible wordsthat are one edit away.\n",
    "    Output:\n",
    "        edit1: a set of words with one possible edit. Please return a set. and not a list.\n",
    "    \"\"\"\n",
    "    edit1=set()\n",
    "    edit1.update(insert_text(word))\n",
    "    edit1.update(delete_text(word))\n",
    "    edit1.update(switch_text(word))\n",
    "    edit1.update(replace_text(word))\n",
    "    return edit1"
   ]
  },
  {
   "cell_type": "code",
   "execution_count": 86,
   "id": "ba7c4c13-2b79-4246-a141-7a7827a7c8c6",
   "metadata": {},
   "outputs": [],
   "source": [
    "def edit2(word):\n",
    "    '''\n",
    "    Input:\n",
    "        word: the input string/word \n",
    "    Output:\n",
    "        edit2: a set of strings with all possible two edits\n",
    "    '''\n",
    "    edit2=set()\n",
    "    words=edit1(word)\n",
    "    for w in words:\n",
    "        temp=edit1(w)\n",
    "        edit2.update(temp)\n",
    "    return edit2"
   ]
  },
  {
   "cell_type": "code",
   "execution_count": 79,
   "id": "85776a8e-9ba9-4713-a9a7-d5653a40d14a",
   "metadata": {},
   "outputs": [],
   "source": [
    "def correction(word ,probs=probs , VOCAB=VOCAB, n=1):\n",
    "    '''\n",
    "    Input: \n",
    "        word: a user entered string to check for suggestions\n",
    "        probs: a dictionary that maps each word to its probability in the corpus\n",
    "        VOCAB: a set containing all the vocabulary\n",
    "        n: number of possible word corrections you want returned in the dictionary\n",
    "    Output: \n",
    "        n_best: a list of tuples with the most probable n corrected words and their probabilities.\n",
    "    '''\n",
    "    suggestions=[]\n",
    "    n_best=[]\n",
    "    suggestions=list((word in VOCAB and word) or (edit1(word)).intersection(VOCAB) or (edit2(word)).intersection(VOCAB) or word )\n",
    "    print(\"suggestions = \", suggestions)\n",
    "    n_best=[[s,probs[s]] for s in sorted(suggestions, key=lambda x: probs[x] , reverse=True)[:n]]\n",
    "    return n_best"
   ]
  },
  {
   "cell_type": "code",
   "execution_count": 75,
   "id": "c2b074d4-54a6-4a53-9f93-f4cec5632d36",
   "metadata": {},
   "outputs": [
    {
     "name": "stdout",
     "output_type": "stream",
     "text": [
      "suggestions =  ['apreciation']\n"
     ]
    }
   ],
   "source": [
    "final_word=correction('arpeciation')"
   ]
  },
  {
   "cell_type": "code",
   "execution_count": 78,
   "id": "e3b72f7d-566d-409b-9c99-4b6971eaacbe",
   "metadata": {},
   "outputs": [
    {
     "name": "stdout",
     "output_type": "stream",
     "text": [
      "The autocorrected word is \"apreciation\" with probability of 1.7234827104523195e-06\n"
     ]
    }
   ],
   "source": [
    "print(f'The autocorrected word is \"{final_word[0][0]}\" with probability of {final_word[0][1]}')"
   ]
  },
  {
   "cell_type": "code",
   "execution_count": null,
   "id": "07c4f30e-009d-4fce-8e2c-07303ffa8829",
   "metadata": {},
   "outputs": [],
   "source": []
  }
 ],
 "metadata": {
  "kernelspec": {
   "display_name": "Python 3 (ipykernel)",
   "language": "python",
   "name": "python3"
  },
  "language_info": {
   "codemirror_mode": {
    "name": "ipython",
    "version": 3
   },
   "file_extension": ".py",
   "mimetype": "text/x-python",
   "name": "python",
   "nbconvert_exporter": "python",
   "pygments_lexer": "ipython3",
   "version": "3.12.1"
  }
 },
 "nbformat": 4,
 "nbformat_minor": 5
}
